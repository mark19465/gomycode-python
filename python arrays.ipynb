{
 "cells": [
  {
   "cell_type": "code",
   "execution_count": 5,
   "id": "8aaa2cde",
   "metadata": {},
   "outputs": [
    {
     "name": "stdout",
     "output_type": "stream",
     "text": [
      "Original array: array('i', [1, 3, 5, 3, 7, 1, 9, 3])\n",
      "Convert the said array to an ordinary list with the same items:\n",
      "[1, 3, 5, 3, 7, 1, 9, 3]\n"
     ]
    }
   ],
   "source": [
    "# Question 1\n",
    "from array import *\n",
    "array_num = array('i', [1, 3, 5, 3, 7, 1, 9, 3])\n",
    "print(\"Original array: \"+str(array_num))\n",
    "num_list = array_num.tolist()\n",
    "print(\"Convert the said array to an ordinary list with the same items:\")\n",
    "print(num_list)"
   ]
  },
  {
   "cell_type": "code",
   "execution_count": 6,
   "id": "12a69cf8",
   "metadata": {},
   "outputs": [
    {
     "name": "stdout",
     "output_type": "stream",
     "text": [
      "Original matrix:\n",
      "[[0 1 2]\n",
      " [3 4 5]]\n",
      "Condition number of the said matrix:\n",
      "4\n"
     ]
    }
   ],
   "source": [
    "# Question 2\n",
    "import numpy as np\n",
    "m = np.arange(6).reshape(2,3)\n",
    "print(\"Original matrix:\")\n",
    "print(m)\n",
    "result =  np.trace(m)\n",
    "print(\"Condition number of the said matrix:\")\n",
    "print(result)"
   ]
  },
  {
   "cell_type": "code",
   "execution_count": 7,
   "id": "dca8f0cb",
   "metadata": {},
   "outputs": [
    {
     "name": "stdout",
     "output_type": "stream",
     "text": [
      "Original array: \n",
      "[[ 0 10 20]\n",
      " [20 30 40]]\n",
      "Values bigger than 10 = [20 20 30 40]\n",
      "Their indices are  (array([0, 1, 1, 1], dtype=int64), array([2, 0, 1, 2], dtype=int64))\n"
     ]
    }
   ],
   "source": [
    "# Question 3\n",
    "import numpy as np\n",
    "x = np.array([[0, 10, 20], [20, 30, 40]])\n",
    "print(\"Original array: \")\n",
    "print(x)\n",
    "print(\"Values bigger than 10 =\", x[x>10])\n",
    "print(\"Their indices are \", np.nonzero(x > 10))"
   ]
  },
  {
   "cell_type": "code",
   "execution_count": 8,
   "id": "df9f01c9",
   "metadata": {},
   "outputs": [
    {
     "name": "stdout",
     "output_type": "stream",
     "text": [
      "Original matrix:\n",
      "\n",
      "[[0.05089128 0.79587618 0.11277429 0.53599272 0.52630909 0.76226764\n",
      "  0.06453707 0.46602611 0.99974836 0.10691592]\n",
      " [0.64396053 0.59723872 0.95511353 0.98655244 0.25552847 0.95352927\n",
      "  0.67088608 0.6275716  0.08753156 0.74607902]\n",
      " [0.10452398 0.83756979 0.12963563 0.67014867 0.87526399 0.58502979\n",
      "  0.41162375 0.56015697 0.10205558 0.46713449]\n",
      " [0.01011296 0.99639449 0.79321878 0.21776488 0.75419934 0.99188483\n",
      "  0.15992224 0.28947508 0.46816981 0.62276745]\n",
      " [0.44868388 0.98075511 0.38930017 0.42393468 0.96924847 0.58499214\n",
      "  0.22209022 0.90386866 0.9079635  0.50844715]]\n",
      "\n",
      "Subtract the mean of each row of the said matrix:\n",
      "\n",
      "[[-0.39124259  0.35374231 -0.32935957  0.09385885  0.08417523  0.32013377\n",
      "  -0.3775968   0.02389225  0.55761449 -0.33521795]\n",
      " [-0.00843859 -0.0551604   0.30271441  0.33415332 -0.39687066  0.30113015\n",
      "   0.01848696 -0.02482752 -0.56486757  0.0936799 ]\n",
      " [-0.36979028  0.36325553 -0.34467864  0.1958344   0.40094972  0.11071553\n",
      "  -0.06269051  0.08584271 -0.37225869 -0.00717978]\n",
      " [-0.52027803  0.46600351  0.2628278  -0.31262611  0.22380835  0.46149384\n",
      "  -0.37046875 -0.2409159  -0.06222117  0.09237646]\n",
      " [-0.18524452  0.34682671 -0.24462822 -0.20999371  0.33532007 -0.04893625\n",
      "  -0.41183818  0.26994026  0.2740351  -0.12548125]]\n"
     ]
    }
   ],
   "source": [
    "# Question 5\n",
    "import numpy as np\n",
    "print(\"Original matrix:\\n\")\n",
    "X = np.random.rand(5, 10)\n",
    "print(X)\n",
    "print(\"\\nSubtract the mean of each row of the said matrix:\\n\")\n",
    "Y = X - X.mean(axis=1, keepdims=True)\n",
    "print(Y)"
   ]
  },
  {
   "cell_type": "code",
   "execution_count": null,
   "id": "212cee12",
   "metadata": {},
   "outputs": [],
   "source": []
  }
 ],
 "metadata": {
  "kernelspec": {
   "display_name": "Python 3 (ipykernel)",
   "language": "python",
   "name": "python3"
  },
  "language_info": {
   "codemirror_mode": {
    "name": "ipython",
    "version": 3
   },
   "file_extension": ".py",
   "mimetype": "text/x-python",
   "name": "python",
   "nbconvert_exporter": "python",
   "pygments_lexer": "ipython3",
   "version": "3.9.13"
  }
 },
 "nbformat": 4,
 "nbformat_minor": 5
}
