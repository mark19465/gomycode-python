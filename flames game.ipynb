{
 "cells": [
  {
   "cell_type": "code",
   "execution_count": 1,
   "id": "8f317fe9",
   "metadata": {},
   "outputs": [
    {
     "name": "stdout",
     "output_type": "stream",
     "text": [
      "Name of first person: AJAY\n",
      "Name of second person: PRIYA\n",
      "Relationship is friends\n"
     ]
    }
   ],
   "source": [
    "name1 = input('Name of first person: ').casefold()\n",
    "name2 = input('Name of second person: ').casefold()\n",
    "\n",
    "def flames(name1, name2):\n",
    "    n1 = sum(letter not in name2 for letter in name1)\n",
    "    n2 = sum(letter not in name1 for letter in name2)\n",
    "    results = 'friend love affection friends enemy'.split()\n",
    "    index = (n1 + n2) % len(results) - 1\n",
    "    return results[index]\n",
    "\n",
    "print('Relationship is', flames(name1, name2))"
   ]
  },
  {
   "cell_type": "code",
   "execution_count": null,
   "id": "29d404c7",
   "metadata": {},
   "outputs": [],
   "source": []
  }
 ],
 "metadata": {
  "kernelspec": {
   "display_name": "Python 3 (ipykernel)",
   "language": "python",
   "name": "python3"
  },
  "language_info": {
   "codemirror_mode": {
    "name": "ipython",
    "version": 3
   },
   "file_extension": ".py",
   "mimetype": "text/x-python",
   "name": "python",
   "nbconvert_exporter": "python",
   "pygments_lexer": "ipython3",
   "version": "3.9.13"
  }
 },
 "nbformat": 4,
 "nbformat_minor": 5
}
